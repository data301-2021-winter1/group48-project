{
 "cells": [
  {
   "cell_type": "markdown",
   "source": [
    "## Duvidu Arsakulasuriya"
   ],
   "metadata": {}
  },
  {
   "cell_type": "markdown",
   "source": [
    "## Research question/interests\n",
    "\n",
    "This dataset interest me mainly because it depicts the cumulative number and percentage of people who have received the COVID-19 vaccine by product,number of doses and it is presented by the respective jurisdiction. After hearing the opinions about the vaccine from the general public who does not want to recieve the vaccine this dataset spark more interest in me. Research questions that I am interested in regards to this dataset are, which province has a higher vaccinaation rate and what is the most common type of vaccination that a particular province administered and how many pepple got both doese from the same kind of vacinne product are few of the questions. "
   ],
   "metadata": {}
  }
 ],
 "metadata": {
  "orig_nbformat": 4,
  "language_info": {
   "name": "plaintext"
  }
 },
 "nbformat": 4,
 "nbformat_minor": 2
}