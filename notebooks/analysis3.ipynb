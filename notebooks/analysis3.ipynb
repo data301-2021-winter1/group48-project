{
 "cells": [
  {
   "cell_type": "markdown",
   "source": [
    "# Ivan Matos"
   ],
   "metadata": {}
  },
  {
   "cell_type": "markdown",
   "source": [
    "## Research question/interests\r\n",
    "\r\n",
    "The reason why I want to work with this dataset is due to the COVID-19 pandemic and the effects it has had on society for over a year, transforming our way of living considerably, but with the vaccines now being distributed around the world, we're coming closer and closer each time to once again being able to live normally like before, so a dataset that contains cumulatively how many people are being vaccinated is of great interest to us since it's the most objective way of observing at the advances that are being made in Canada that are slowly but surely allowing us who live here to return to our old lives. Through the evaluation we hope to uncover correlations between political and social events that impact the rise in vaccinated individuals."
   ],
   "metadata": {}
  }
 ],
 "metadata": {
  "orig_nbformat": 4,
  "language_info": {
   "name": "plaintext"
  }
 },
 "nbformat": 4,
 "nbformat_minor": 2
}
