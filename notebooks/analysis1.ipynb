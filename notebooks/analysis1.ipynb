{
 "cells": [
  {
   "cell_type": "markdown",
   "metadata": {},
   "source": [
    "# Joe Gaspari"
   ]
  },
  {
   "cell_type": "markdown",
   "metadata": {},
   "source": [
    "## Research Question"
   ]
  },
  {
   "cell_type": "markdown",
   "metadata": {},
   "source": [
    "The advance in vaccine production due to the scale and impact of COVID-19 raises many concerns in the eyes of the gerneral public. This data interests me as this vaccine is being callously viewed by the public as being unsafe, untested or even unproven. The spread of miss information and political factors all impact the public view, leading some populations to show slow inclines of immunization. We hope to visualize the trends in partial and fully vaccinated amongst provinces in hopes to tag key sociopolicial events that may impact the number of individuals who choose to get the vaccine."
   ]
  },
  {
   "cell_type": "markdown",
   "metadata": {},
   "source": [
    "## What Does Our Data Hold?\n",
    "\n",
    "The set loaded from the government of Canada official site holds the reported number of vaccines adminstered to individuals by region. This set spans a total of 39 weeks from the dates 2020/12/19 to 2021/09/11. The set further specifies the number of partially and fully vaccinated along with the probability of an individual being either or. The data includes each vaccine product and holds specific total counts for partially and fully vaccinated. For the purposes of our analysis below we will only be considering the sum total across all vaccine products of fully and partially vaccinated over each week, be"
   ]
  },
  {
   "cell_type": "code",
   "execution_count": 29,
   "metadata": {},
   "outputs": [
    {
     "name": "stdout",
     "output_type": "stream",
     "text": [
      "Index(['pruid', 'prename', 'prfname', 'week_end', 'product_name',\n",
      "       'numtotal_atleast1dose', 'numtotal_partially', 'numtotal_fully',\n",
      "       'prop_atleast1dose', 'prop_partially', 'prop_fully', 'Unnamed: 11',\n",
      "       'numweekdelta_atleast1dose', 'numweekdelta_fully',\n",
      "       'propweekdelta_partially', 'propweekdelta_fully'],\n",
      "      dtype='object')\n",
      "3295\n"
     ]
    },
    {
     "data": {
      "text/plain": [
       "pruid                           0\n",
       "prename                         0\n",
       "prfname                         0\n",
       "week_end                        0\n",
       "product_name                    0\n",
       "numtotal_atleast1dose         165\n",
       "numtotal_partially            175\n",
       "numtotal_fully                227\n",
       "prop_atleast1dose             165\n",
       "prop_partially                175\n",
       "prop_fully                    227\n",
       "Unnamed: 11                  3295\n",
       "numweekdelta_atleast1dose    3295\n",
       "numweekdelta_fully           3295\n",
       "propweekdelta_partially      3295\n",
       "propweekdelta_fully          3295\n",
       "dtype: int64"
      ]
     },
     "execution_count": 29,
     "metadata": {},
     "output_type": "execute_result"
    }
   ],
   "source": [
    "#loading the data set!!\n",
    "\n",
    "import pandas as pd\n",
    "import numpy as np\n",
    "import matplotlib.pyplot as plt\n",
    "%matplotlib inline\n",
    "%reload_ext autoreload\n",
    "%autoreload 2\n",
    "import seaborn as sns\n",
    "\n",
    "pd.set_option('display.max_rows', None)\n",
    "\n",
    "df = pd.read_csv(\"../data/raw/vaccination-coverage-byVaccineType.csv\")\n",
    "\n",
    "#Lets look at the current column labels in our dataframe\n",
    "print(df.columns)\n",
    "print(len(df.index))\n",
    "df.isnull().sum()\n",
    "#Will tell us the number of null or empty spots"
   ]
  },
  {
   "cell_type": "markdown",
   "metadata": {},
   "source": [
    "## What To do with NaN?\n",
    "\n",
    "Since the fields Unnamed: 11, numweekdelta_atleast1dose, numweekdelta_fully, propweekdelta_partially, and propweekdelta_fully are all NaN and can thus can be droped from the set all together. This is identified by the value 3295 which is identical to the value returned from len(df.index). Additonally the prfname column is redundant as this investigation is being conducted in english. "
   ]
  },
  {
   "cell_type": "code",
   "execution_count": 30,
   "metadata": {},
   "outputs": [
    {
     "name": "stderr",
     "output_type": "stream",
     "text": [
      "<ipython-input-30-112311ecbb56>:2: FutureWarning: In a future version of pandas all arguments of DataFrame.drop except for the argument 'labels' will be keyword-only\n",
      "  df = (df.drop('Unnamed: 11', 1)\n"
     ]
    }
   ],
   "source": [
    "#We must drop all columns specified\n",
    "df = (df.drop('Unnamed: 11', 1)\n",
    "      .drop('numweekdelta_atleast1dose', 1)\n",
    "      .drop('numweekdelta_fully', 1)\n",
    "      .drop('propweekdelta_partially', 1)\n",
    "      .drop('propweekdelta_fully', 1)\n",
    "      .drop('prfname', 1))"
   ]
  },
  {
   "cell_type": "code",
   "execution_count": 32,
   "metadata": {},
   "outputs": [],
   "source": [
    "#Lets look to see if our changes were implemented properly\n",
    "# display(df)"
   ]
  },
  {
   "cell_type": "markdown",
   "metadata": {},
   "source": [
    "## Missing Data \n",
    "\n",
    "Now that our dataframe/set has been stripped of unviable columns we can begin searching the data for further blanks or NaN in the data. We can call **df.info()** to give us more information on our data and what kind of domain each attribute lives within (ie. Integer, Object, float) and proceed to impose values into these spots. Since our data can be seen to range from 0 onwards we can safely assign NaN entries a value of 0."
   ]
  },
  {
   "cell_type": "code",
   "execution_count": 22,
   "metadata": {},
   "outputs": [
    {
     "name": "stdout",
     "output_type": "stream",
     "text": [
      "<class 'pandas.core.frame.DataFrame'>\n",
      "RangeIndex: 3295 entries, 0 to 3294\n",
      "Data columns (total 10 columns):\n",
      " #   Column                 Non-Null Count  Dtype  \n",
      "---  ------                 --------------  -----  \n",
      " 0   pruid                  3295 non-null   int64  \n",
      " 1   prename                3295 non-null   object \n",
      " 2   week_end               3295 non-null   object \n",
      " 3   product_name           3295 non-null   object \n",
      " 4   numtotal_atleast1dose  3295 non-null   float64\n",
      " 5   numtotal_partially     3295 non-null   object \n",
      " 6   numtotal_fully         3295 non-null   float64\n",
      " 7   prop_atleast1dose      3295 non-null   object \n",
      " 8   prop_partially         3295 non-null   object \n",
      " 9   prop_fully             3295 non-null   object \n",
      "dtypes: float64(2), int64(1), object(7)\n",
      "memory usage: 257.5+ KB\n"
     ]
    },
    {
     "data": {
      "image/png": "[encoded data removed]",
      "text/plain": [
       "<Figure size 432x288 with 1 Axes>"
      ]
     },
     "metadata": {},
     "output_type": "display_data"
    }
   ],
   "source": [
    "#Lets look at a heat map of our missing data\n",
    "sns.heatmap(df.isnull(), cbar=False, cmap='viridis')\n",
    "df.info()"
   ]
  },
  {
   "cell_type": "markdown",
   "metadata": {},
   "source": [
    "## String Literal Complication\n",
    "\n",
    "When working further within the data we found that not only did the data contain NaN values but incorrectly written 'na' entries which resulted in some of our columns being defined as holding objects, when really all columns {'prop_atleast1dose','prop_partially','prop_fully'} should be float values. The probability columns also contained float values with </> operators placed infront. These greater than or less than operators cause issues as the whole value becomes a string. When we define these mistake and replace it with 0.0 using *df.replace* as seen below. "
   ]
  },
  {
   "cell_type": "code",
   "execution_count": 42,
   "metadata": {},
   "outputs": [
    {
     "name": "stdout",
     "output_type": "stream",
     "text": [
      "<class 'pandas.core.frame.DataFrame'>\n",
      "RangeIndex: 3295 entries, 0 to 3294\n",
      "Data columns (total 10 columns):\n",
      " #   Column                 Non-Null Count  Dtype  \n",
      "---  ------                 --------------  -----  \n",
      " 0   pruid                  3295 non-null   int64  \n",
      " 1   prename                3295 non-null   object \n",
      " 2   week_end               3295 non-null   object \n",
      " 3   product_name           3295 non-null   object \n",
      " 4   numtotal_atleast1dose  3295 non-null   float64\n",
      " 5   numtotal_partially     3295 non-null   float64\n",
      " 6   numtotal_fully         3295 non-null   float64\n",
      " 7   prop_atleast1dose      3295 non-null   float64\n",
      " 8   prop_partially         3295 non-null   float64\n",
      " 9   prop_fully             3295 non-null   float64\n",
      "dtypes: float64(6), int64(1), object(3)\n",
      "memory usage: 257.5+ KB\n"
     ]
    }
   ],
   "source": [
    "#lets fill all the NaN spots with zero, after reviewing the data these empties seem to correspond to zeros or no reported\n",
    "#data in the field\n",
    "for col in df.columns:\n",
    "    df[col].replace({np.nan:0}, inplace=True)\n",
    "    df[col].replace({'na': 0.0}, inplace=True)\n",
    "   \n",
    "\n",
    "df['prop_atleast1dose'].replace(regex=True, inplace=True, to_replace=r'[^0-9.\\-]',value=r'')\n",
    "df['prop_atleast1dose'] = df['prop_atleast1dose'].astype(float)\n",
    "\n",
    "df['prop_partially'].replace(regex=True, inplace=True, to_replace=r'[^0-9.\\-]',value=r'')\n",
    "df['prop_partially'] = df['prop_partially'].astype(float)\n",
    "\n",
    "df['prop_fully'].replace(regex=True, inplace=True, to_replace=r'[^0-9.\\-]',value=r'')\n",
    "df['prop_fully'] = df['prop_fully'].astype(float)\n",
    "\n",
    "#Let us see how full our data is now\n",
    "df.info()\n",
    "\n",
    "\n",
    "# sns.heatmap(df.isnull(), cbar=False, cmap='viridis')"
   ]
  },
  {
   "cell_type": "code",
   "execution_count": null,
   "metadata": {},
   "outputs": [],
   "source": []
  },
  {
   "cell_type": "code",
   "execution_count": 43,
   "metadata": {},
   "outputs": [
    {
     "data": {
      "text/plain": [
       "pruid                      14\n",
       "prename                    14\n",
       "week_end                   39\n",
       "product_name                9\n",
       "numtotal_atleast1dose    1766\n",
       "numtotal_partially       1520\n",
       "numtotal_fully           1367\n",
       "prop_atleast1dose         983\n",
       "prop_partially            735\n",
       "prop_fully                737\n",
       "dtype: int64"
      ]
     },
     "execution_count": 43,
     "metadata": {},
     "output_type": "execute_result"
    }
   ],
   "source": [
    "df.nunique()\n"
   ]
  },
  {
   "cell_type": "markdown",
   "metadata": {},
   "source": [
    "## Df.nunique()\n",
    "\n",
    "Here we see a break down of all the unique values found within each column in the dataframe. We see there are a total of 14 regions corresponding to each of the 10 provinces, 3 territories, and the country as a whole.\n",
    "\n",
    "**Week_end**\n",
    "\n",
    "We see from this feild that there are a total of 39 weeks of data provided in the set. Allowing for us to show some progression over time. \n",
    "\n",
    "**Product_name**\n",
    "\n",
    "Interestingly, upon scanning the data only Pfizer-BioNT was available to the general public. This number thus grows to a total of 6, removing of course Not repoted, Unknown and Other samples. These three unknowns still contain reported data and thus will be considered in the future analysis. "
   ]
  },
  {
   "cell_type": "code",
   "execution_count": 44,
   "metadata": {},
   "outputs": [
    {
     "data": {
      "text/plain": [
       "array(['Not reported', 'Pfizer-BioNTech', 'Unknown', 'Moderna',\n",
       "       'AstraZeneca', 'COVISHIELD', 'Combination', 'Janssen', 'Other'],\n",
       "      dtype=object)"
      ]
     },
     "execution_count": 44,
     "metadata": {},
     "output_type": "execute_result"
    }
   ],
   "source": [
    "df['product_name'].unique()"
   ]
  },
  {
   "cell_type": "code",
   "execution_count": 45,
   "metadata": {},
   "outputs": [
    {
     "data": {
      "text/plain": [
       "array(['Canada', 'Newfoundland and Labrador', 'Nova Scotia', 'Quebec',\n",
       "       'Manitoba', 'Saskatchewan', 'British Columbia', 'Yukon',\n",
       "       'Northwest Territories', 'Nunavut', 'Prince Edward Island',\n",
       "       'New Brunswick', 'Alberta', 'Ontario'], dtype=object)"
      ]
     },
     "execution_count": 45,
     "metadata": {},
     "output_type": "execute_result"
    }
   ],
   "source": [
    "df['prename'].unique()"
   ]
  },
  {
   "cell_type": "code",
   "execution_count": 46,
   "metadata": {},
   "outputs": [],
   "source": [
    "#The date form found in the data is not usable in pandas and as such must be converted to a true date/time\n",
    "#as shown below\n",
    "df['week_end'] = df['week_end'].apply(pd.to_datetime)\n"
   ]
  },
  {
   "cell_type": "code",
   "execution_count": 47,
   "metadata": {},
   "outputs": [
    {
     "data": {
      "text/plain": [
       "<AxesSubplot:xlabel='week_end', ylabel='numtotal_fully'>"
      ]
     },
     "execution_count": 47,
     "metadata": {},
     "output_type": "execute_result"
    },
    {
     "data": {
      "image/png": "[encoded data removed]",
      "text/plain": [
       "<Figure size 720x288 with 1 Axes>"
      ]
     },
     "metadata": {
      "needs_background": "light"
     },
     "output_type": "display_data"
    }
   ],
   "source": [
    "plt.figure(figsize=(10,4))\n",
    "sns.scatterplot(x=\"week_end\", y=\"numtotal_fully\", data=df)"
   ]
  },
  {
   "cell_type": "markdown",
   "metadata": {},
   "source": [
    "## Scatter Plot\n",
    "\n",
    "In the above seaborn scatter plot we see the number of vaccinated with respect to time. We can see from the data that some partioning begins to occur within the region of Canada (pruid=1) when separated from the entire set. Looking further we see this partioning is a result of the different vaccine products that are offered over the duration of the roll out. \n",
    "\n",
    "## Wrangle Data\n",
    "\n",
    "Now that we have a cleaned, full data set, we can begin to separte columns and rows to build smaller groups within the set. Pruid matches each region, thus lets build a data set from each region, over the entire course of the data set with regards to total number of fully vacinnated. Lets then create another data set that holds the same week range, pruid but now with respect to partially vaccinated. We will then over-lay these two plots to show the regions transition from partially to fully vaccinated and when that began to occur. We can also see which provinces or regions were slowest to begin the process of immunization. "
   ]
  },
  {
   "cell_type": "markdown",
   "metadata": {},
   "source": [
    "## Bar Graph 1.1\n",
    "\n",
    "In the bar graph below we see each week represented as a digit in range 0-38. The sample data ranges over a 39 week period, this is confirmed when calling **df.nunique()** which tells us that there are 39 unique date-time stamps in the week_end column. Just as a reference we took the data set and refined the results to include only tuples with pruid = 1 and then summed the indivdual counts for each product across each region based on the week with respect to the count of fully vaccinated."
   ]
  },
  {
   "cell_type": "code",
   "execution_count": 82,
   "metadata": {},
   "outputs": [
    {
     "data": {
      "text/plain": [
       "[Text(0, 0, '0'),\n",
       " Text(1, 0, '1'),\n",
       " Text(2, 0, '2'),\n",
       " Text(3, 0, '3'),\n",
       " Text(4, 0, '4'),\n",
       " Text(5, 0, '5'),\n",
       " Text(6, 0, '6'),\n",
       " Text(7, 0, '7'),\n",
       " Text(8, 0, '8'),\n",
       " Text(9, 0, '9'),\n",
       " Text(10, 0, '10'),\n",
       " Text(11, 0, '11'),\n",
       " Text(12, 0, '12'),\n",
       " Text(13, 0, '13'),\n",
       " Text(14, 0, '14'),\n",
       " Text(15, 0, '15'),\n",
       " Text(16, 0, '16'),\n",
       " Text(17, 0, '17'),\n",
       " Text(18, 0, '18'),\n",
       " Text(19, 0, '19'),\n",
       " Text(20, 0, '20'),\n",
       " Text(21, 0, '21'),\n",
       " Text(22, 0, '22'),\n",
       " Text(23, 0, '23'),\n",
       " Text(24, 0, '24'),\n",
       " Text(25, 0, '25'),\n",
       " Text(26, 0, '26'),\n",
       " Text(27, 0, '27'),\n",
       " Text(28, 0, '28'),\n",
       " Text(29, 0, '29'),\n",
       " Text(30, 0, '30'),\n",
       " Text(31, 0, '31'),\n",
       " Text(32, 0, '32'),\n",
       " Text(33, 0, '33'),\n",
       " Text(34, 0, '34'),\n",
       " Text(35, 0, '35'),\n",
       " Text(36, 0, '36'),\n",
       " Text(37, 0, '37'),\n",
       " Text(38, 0, '38')]"
      ]
     },
     "execution_count": 82,
     "metadata": {},
     "output_type": "execute_result"
    },
    {
     "data": {
      "image/png": "[encoded data removed]",
      "text/plain": [
       "<Figure size 1440x288 with 1 Axes>"
      ]
     },
     "metadata": {},
     "output_type": "display_data"
    }
   ],
   "source": [
    "newdf = df[(df.pruid == 1)]\n",
    "new1 = newdf.groupby(\"week_end\")[\"numtotal_fully\"].sum().to_frame(name = 'sumTotFul').reset_index()\n",
    "\n",
    "sns.set_style('white')\n",
    "plt.figure(figsize=(20,4))\n",
    "sns.set_context('paper', font_scale=1.3)             \n",
    "sns.barplot(x='week_end', y='sumTotFul', data=new1).set_xticklabels(range(len(new1.index)))"
   ]
  },
  {
   "cell_type": "code",
   "execution_count": 63,
   "metadata": {},
   "outputs": [
    {
     "data": {
      "text/plain": [
       "Text(0, 0.5, 'FullyVacced')"
      ]
     },
     "execution_count": 63,
     "metadata": {},
     "output_type": "execute_result"
    },
    {
     "data": {
      "image/png": "[encoded data removed]",
      "text/plain": [
       "<Figure size 720x720 with 1 Axes>"
      ]
     },
     "metadata": {},
     "output_type": "display_data"
    }
   ],
   "source": [
    "plt.figure(figsize=(10,10))\n",
    "plt.scatter(x='week_end',y='sumTotFul',data=new1)\n",
    "plt.xlabel('Week')\n",
    "plt.ylabel('FullyVacced')"
   ]
  },
  {
   "cell_type": "markdown",
   "metadata": {},
   "source": [
    "## Bar Graph 1.2\n",
    "\n",
    "In the bar graph below we see each week represented as a digit in range 0-38. Just as a reference we took the data set and refined the results to include only tuples with pruid = 1 and then summed the indivdual counts for each product across each region based on the week with respect to the count of partially vaccinated."
   ]
  },
  {
   "cell_type": "code",
   "execution_count": 84,
   "metadata": {},
   "outputs": [
    {
     "data": {
      "text/plain": [
       "[Text(0, 0, '0'),\n",
       " Text(1, 0, '1'),\n",
       " Text(2, 0, '2'),\n",
       " Text(3, 0, '3'),\n",
       " Text(4, 0, '4'),\n",
       " Text(5, 0, '5'),\n",
       " Text(6, 0, '6'),\n",
       " Text(7, 0, '7'),\n",
       " Text(8, 0, '8'),\n",
       " Text(9, 0, '9'),\n",
       " Text(10, 0, '10'),\n",
       " Text(11, 0, '11'),\n",
       " Text(12, 0, '12'),\n",
       " Text(13, 0, '13'),\n",
       " Text(14, 0, '14'),\n",
       " Text(15, 0, '15'),\n",
       " Text(16, 0, '16'),\n",
       " Text(17, 0, '17'),\n",
       " Text(18, 0, '18'),\n",
       " Text(19, 0, '19'),\n",
       " Text(20, 0, '20'),\n",
       " Text(21, 0, '21'),\n",
       " Text(22, 0, '22'),\n",
       " Text(23, 0, '23'),\n",
       " Text(24, 0, '24'),\n",
       " Text(25, 0, '25'),\n",
       " Text(26, 0, '26'),\n",
       " Text(27, 0, '27'),\n",
       " Text(28, 0, '28'),\n",
       " Text(29, 0, '29'),\n",
       " Text(30, 0, '30'),\n",
       " Text(31, 0, '31'),\n",
       " Text(32, 0, '32'),\n",
       " Text(33, 0, '33'),\n",
       " Text(34, 0, '34'),\n",
       " Text(35, 0, '35'),\n",
       " Text(36, 0, '36'),\n",
       " Text(37, 0, '37'),\n",
       " Text(38, 0, '38')]"
      ]
     },
     "execution_count": 84,
     "metadata": {},
     "output_type": "execute_result"
    },
    {
     "data": {
      "image/png": "[encoded data removed]",
      "text/plain": [
       "<Figure size 1440x288 with 1 Axes>"
      ]
     },
     "metadata": {},
     "output_type": "display_data"
    }
   ],
   "source": [
    "new2 = newdf.groupby(\"week_end\")[\"numtotal_partially\"].sum().to_frame(name = 'sumTotPartially').reset_index()\n",
    "\n",
    "sns.set_style('white')\n",
    "plt.figure(figsize=(20,4))\n",
    "sns.set_context('paper', font_scale=1.3)             \n",
    "sns.barplot(x='week_end', y='sumTotPartially', data=new2).set_xticklabels(range(len(new2.index)))"
   ]
  },
  {
   "cell_type": "markdown",
   "metadata": {},
   "source": [
    "## What Data Do We Need?\n",
    "\n",
    "Since our focus is centered around the trends of immunization we want to look at the changes between partially and fully vaccinated over each reporting week, with regards to the region. \n",
    "\n",
    "Our above two graphs should be combined as a line graph to show the relative distributions. We can do this by merging the two newly created new1 & new2 dataframe on the week_end column as the key. *dff* becomes the new dataframe holding both distributions."
   ]
  },
  {
   "cell_type": "code",
   "execution_count": 85,
   "metadata": {},
   "outputs": [
    {
     "data": {
      "text/html": [
       "<div>\n",
       "<style scoped>\n",
       "    .dataframe tbody tr th:only-of-type {\n",
       "        vertical-align: middle;\n",
       "    }\n",
       "\n",
       "    .dataframe tbody tr th {\n",
       "        vertical-align: top;\n",
       "    }\n",
       "\n",
       "    .dataframe thead th {\n",
       "        text-align: right;\n",
       "    }\n",
       "</style>\n",
       "<table border=\"1\" class=\"dataframe\">\n",
       "  <thead>\n",
       "    <tr style=\"text-align: right;\">\n",
       "      <th></th>\n",
       "      <th>week_end</th>\n",
       "      <th>sumTotFul</th>\n",
       "      <th>sumTotPartially</th>\n",
       "    </tr>\n",
       "  </thead>\n",
       "  <tbody>\n",
       "    <tr>\n",
       "      <th>0</th>\n",
       "      <td>2020-12-19</td>\n",
       "      <td>0.0</td>\n",
       "      <td>12362.0</td>\n",
       "    </tr>\n",
       "    <tr>\n",
       "      <th>1</th>\n",
       "      <td>2020-12-26</td>\n",
       "      <td>0.0</td>\n",
       "      <td>46156.0</td>\n",
       "    </tr>\n",
       "    <tr>\n",
       "      <th>2</th>\n",
       "      <td>2021-01-02</td>\n",
       "      <td>0.0</td>\n",
       "      <td>82512.0</td>\n",
       "    </tr>\n",
       "    <tr>\n",
       "      <th>3</th>\n",
       "      <td>2021-01-09</td>\n",
       "      <td>4521.0</td>\n",
       "      <td>212824.0</td>\n",
       "    </tr>\n",
       "    <tr>\n",
       "      <th>4</th>\n",
       "      <td>2021-01-16</td>\n",
       "      <td>26748.0</td>\n",
       "      <td>538173.0</td>\n",
       "    </tr>\n",
       "    <tr>\n",
       "      <th>5</th>\n",
       "      <td>2021-01-23</td>\n",
       "      <td>59294.0</td>\n",
       "      <td>716208.0</td>\n",
       "    </tr>\n",
       "    <tr>\n",
       "      <th>6</th>\n",
       "      <td>2021-01-30</td>\n",
       "      <td>113649.0</td>\n",
       "      <td>745593.0</td>\n",
       "    </tr>\n",
       "    <tr>\n",
       "      <th>7</th>\n",
       "      <td>2021-02-06</td>\n",
       "      <td>173779.0</td>\n",
       "      <td>727626.0</td>\n",
       "    </tr>\n",
       "    <tr>\n",
       "      <th>8</th>\n",
       "      <td>2021-02-13</td>\n",
       "      <td>307369.0</td>\n",
       "      <td>665699.0</td>\n",
       "    </tr>\n",
       "    <tr>\n",
       "      <th>9</th>\n",
       "      <td>2021-02-20</td>\n",
       "      <td>435267.0</td>\n",
       "      <td>651320.0</td>\n",
       "    </tr>\n",
       "    <tr>\n",
       "      <th>10</th>\n",
       "      <td>2021-02-27</td>\n",
       "      <td>538399.0</td>\n",
       "      <td>843130.0</td>\n",
       "    </tr>\n",
       "    <tr>\n",
       "      <th>11</th>\n",
       "      <td>2021-03-06</td>\n",
       "      <td>573661.0</td>\n",
       "      <td>1281258.0</td>\n",
       "    </tr>\n",
       "    <tr>\n",
       "      <th>12</th>\n",
       "      <td>2021-03-13</td>\n",
       "      <td>597764.0</td>\n",
       "      <td>1902391.0</td>\n",
       "    </tr>\n",
       "    <tr>\n",
       "      <th>13</th>\n",
       "      <td>2021-03-20</td>\n",
       "      <td>630384.0</td>\n",
       "      <td>2772521.0</td>\n",
       "    </tr>\n",
       "    <tr>\n",
       "      <th>14</th>\n",
       "      <td>2021-03-27</td>\n",
       "      <td>668042.0</td>\n",
       "      <td>3865130.0</td>\n",
       "    </tr>\n",
       "    <tr>\n",
       "      <th>15</th>\n",
       "      <td>2021-04-03</td>\n",
       "      <td>716100.0</td>\n",
       "      <td>5072435.0</td>\n",
       "    </tr>\n",
       "    <tr>\n",
       "      <th>16</th>\n",
       "      <td>2021-04-10</td>\n",
       "      <td>818999.0</td>\n",
       "      <td>6520698.0</td>\n",
       "    </tr>\n",
       "    <tr>\n",
       "      <th>17</th>\n",
       "      <td>2021-04-17</td>\n",
       "      <td>930097.0</td>\n",
       "      <td>8265207.0</td>\n",
       "    </tr>\n",
       "    <tr>\n",
       "      <th>18</th>\n",
       "      <td>2021-04-24</td>\n",
       "      <td>1020449.0</td>\n",
       "      <td>10112363.0</td>\n",
       "    </tr>\n",
       "    <tr>\n",
       "      <th>19</th>\n",
       "      <td>2021-05-01</td>\n",
       "      <td>1123679.0</td>\n",
       "      <td>11656143.0</td>\n",
       "    </tr>\n",
       "    <tr>\n",
       "      <th>20</th>\n",
       "      <td>2021-05-08</td>\n",
       "      <td>1252998.0</td>\n",
       "      <td>13519592.0</td>\n",
       "    </tr>\n",
       "    <tr>\n",
       "      <th>21</th>\n",
       "      <td>2021-05-15</td>\n",
       "      <td>1518405.0</td>\n",
       "      <td>15622464.0</td>\n",
       "    </tr>\n",
       "    <tr>\n",
       "      <th>22</th>\n",
       "      <td>2021-05-22</td>\n",
       "      <td>1754747.0</td>\n",
       "      <td>17478767.0</td>\n",
       "    </tr>\n",
       "    <tr>\n",
       "      <th>23</th>\n",
       "      <td>2021-05-29</td>\n",
       "      <td>2169274.0</td>\n",
       "      <td>19412850.0</td>\n",
       "    </tr>\n",
       "    <tr>\n",
       "      <th>24</th>\n",
       "      <td>2021-06-05</td>\n",
       "      <td>3050396.0</td>\n",
       "      <td>19960756.0</td>\n",
       "    </tr>\n",
       "    <tr>\n",
       "      <th>25</th>\n",
       "      <td>2021-06-12</td>\n",
       "      <td>4871184.0</td>\n",
       "      <td>19218608.0</td>\n",
       "    </tr>\n",
       "    <tr>\n",
       "      <th>26</th>\n",
       "      <td>2021-06-19</td>\n",
       "      <td>7330950.0</td>\n",
       "      <td>17388796.0</td>\n",
       "    </tr>\n",
       "    <tr>\n",
       "      <th>27</th>\n",
       "      <td>2021-06-26</td>\n",
       "      <td>10321349.0</td>\n",
       "      <td>14833867.0</td>\n",
       "    </tr>\n",
       "    <tr>\n",
       "      <th>28</th>\n",
       "      <td>2021-07-03</td>\n",
       "      <td>13646757.0</td>\n",
       "      <td>11888385.0</td>\n",
       "    </tr>\n",
       "    <tr>\n",
       "      <th>29</th>\n",
       "      <td>2021-07-10</td>\n",
       "      <td>16622716.0</td>\n",
       "      <td>9268606.0</td>\n",
       "    </tr>\n",
       "    <tr>\n",
       "      <th>30</th>\n",
       "      <td>2021-07-17</td>\n",
       "      <td>19109222.0</td>\n",
       "      <td>7148828.0</td>\n",
       "    </tr>\n",
       "    <tr>\n",
       "      <th>31</th>\n",
       "      <td>2021-07-24</td>\n",
       "      <td>21179151.0</td>\n",
       "      <td>5377098.0</td>\n",
       "    </tr>\n",
       "    <tr>\n",
       "      <th>32</th>\n",
       "      <td>2021-07-31</td>\n",
       "      <td>22627721.0</td>\n",
       "      <td>4196923.0</td>\n",
       "    </tr>\n",
       "    <tr>\n",
       "      <th>33</th>\n",
       "      <td>2021-08-07</td>\n",
       "      <td>23516871.0</td>\n",
       "      <td>3631701.0</td>\n",
       "    </tr>\n",
       "    <tr>\n",
       "      <th>34</th>\n",
       "      <td>2021-08-14</td>\n",
       "      <td>24268798.0</td>\n",
       "      <td>3076415.0</td>\n",
       "    </tr>\n",
       "    <tr>\n",
       "      <th>35</th>\n",
       "      <td>2021-08-21</td>\n",
       "      <td>24888997.0</td>\n",
       "      <td>2666476.0</td>\n",
       "    </tr>\n",
       "    <tr>\n",
       "      <th>36</th>\n",
       "      <td>2021-08-28</td>\n",
       "      <td>25390503.0</td>\n",
       "      <td>2404840.0</td>\n",
       "    </tr>\n",
       "    <tr>\n",
       "      <th>37</th>\n",
       "      <td>2021-09-04</td>\n",
       "      <td>25768558.0</td>\n",
       "      <td>2268406.0</td>\n",
       "    </tr>\n",
       "    <tr>\n",
       "      <th>38</th>\n",
       "      <td>2021-09-11</td>\n",
       "      <td>26117524.0</td>\n",
       "      <td>2174252.0</td>\n",
       "    </tr>\n",
       "  </tbody>\n",
       "</table>\n",
       "</div>"
      ],
      "text/plain": [
       "     week_end   sumTotFul  sumTotPartially\n",
       "0  2020-12-19         0.0          12362.0\n",
       "1  2020-12-26         0.0          46156.0\n",
       "2  2021-01-02         0.0          82512.0\n",
       "3  2021-01-09      4521.0         212824.0\n",
       "4  2021-01-16     26748.0         538173.0\n",
       "5  2021-01-23     59294.0         716208.0\n",
       "6  2021-01-30    113649.0         745593.0\n",
       "7  2021-02-06    173779.0         727626.0\n",
       "8  2021-02-13    307369.0         665699.0\n",
       "9  2021-02-20    435267.0         651320.0\n",
       "10 2021-02-27    538399.0         843130.0\n",
       "11 2021-03-06    573661.0        1281258.0\n",
       "12 2021-03-13    597764.0        1902391.0\n",
       "13 2021-03-20    630384.0        2772521.0\n",
       "14 2021-03-27    668042.0        3865130.0\n",
       "15 2021-04-03    716100.0        5072435.0\n",
       "16 2021-04-10    818999.0        6520698.0\n",
       "17 2021-04-17    930097.0        8265207.0\n",
       "18 2021-04-24   1020449.0       10112363.0\n",
       "19 2021-05-01   1123679.0       11656143.0\n",
       "20 2021-05-08   1252998.0       13519592.0\n",
       "21 2021-05-15   1518405.0       15622464.0\n",
       "22 2021-05-22   1754747.0       17478767.0\n",
       "23 2021-05-29   2169274.0       19412850.0\n",
       "24 2021-06-05   3050396.0       19960756.0\n",
       "25 2021-06-12   4871184.0       19218608.0\n",
       "26 2021-06-19   7330950.0       17388796.0\n",
       "27 2021-06-26  10321349.0       14833867.0\n",
       "28 2021-07-03  13646757.0       11888385.0\n",
       "29 2021-07-10  16622716.0        9268606.0\n",
       "30 2021-07-17  19109222.0        7148828.0\n",
       "31 2021-07-24  21179151.0        5377098.0\n",
       "32 2021-07-31  22627721.0        4196923.0\n",
       "33 2021-08-07  23516871.0        3631701.0\n",
       "34 2021-08-14  24268798.0        3076415.0\n",
       "35 2021-08-21  24888997.0        2666476.0\n",
       "36 2021-08-28  25390503.0        2404840.0\n",
       "37 2021-09-04  25768558.0        2268406.0\n",
       "38 2021-09-11  26117524.0        2174252.0"
      ]
     },
     "metadata": {},
     "output_type": "display_data"
    }
   ],
   "source": [
    "# display(new1 & new2 merge on week_end)\n",
    "dff = pd.merge(new1, new2, on='week_end', how ='inner')\n",
    "display(dff)"
   ]
  },
  {
   "cell_type": "code",
   "execution_count": null,
   "metadata": {},
   "outputs": [],
   "source": [
    "\n"
   ]
  },
  {
   "cell_type": "code",
   "execution_count": null,
   "metadata": {},
   "outputs": [],
   "source": []
  }
 ],
 "metadata": {
  "kernelspec": {
   "display_name": "Python 3",
   "language": "python",
   "name": "python3"
  },
  "language_info": {
   "codemirror_mode": {
    "name": "ipython",
    "version": 3
   },
   "file_extension": ".py",
   "mimetype": "text/x-python",
   "name": "python",
   "nbconvert_exporter": "python",
   "pygments_lexer": "ipython3",
   "version": "3.9.5"
  }
 },
 "nbformat": 4,
 "nbformat_minor": 4
}
